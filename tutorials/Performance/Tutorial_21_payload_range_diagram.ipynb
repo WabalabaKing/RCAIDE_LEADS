{
 "cells": [
  {
   "cell_type": "markdown",
   "metadata": {},
   "source": [
    "## Tutorial 21 - Payload Range Diagram\n",
    "Welcome to this tutorial on creating a payload range diagram of a turbofan aircraft using RCAIDE. This guide will walk you through the code, explain its components, and highlight where modifications can be made to customize the simulation for different vehicle designs.\n",
    "\n",
    "---"
   ]
  },
  {
   "cell_type": "markdown",
   "metadata": {},
   "source": [
    "## 1. Header and Imports\n",
    "\n",
    "\n",
    "The **Imports** section is divided into two parts: general-purpose Python libraries and simulation-specific libraries."
   ]
  },
  {
   "cell_type": "code",
   "execution_count": 1,
   "metadata": {
    "execution": {
     "iopub.execute_input": "2025-04-10T19:13:40.830998Z",
     "iopub.status.busy": "2025-04-10T19:13:40.830808Z",
     "iopub.status.idle": "2025-04-10T19:13:41.176577Z",
     "shell.execute_reply": "2025-04-10T19:13:41.176035Z"
    }
   },
   "outputs": [],
   "source": [
    "# python imports     \n",
    "import numpy as np  \n",
    "import sys\n",
    "import matplotlib.pyplot as plt  \n",
    "import os\n",
    "import sys\n",
    "from copy import deepcopy\n",
    "# local imports \n",
    "sys.path.append(os.path.join( os.path.split(os.path.split(sys.path[0])[0])[0], 'Vehicles'))\n"
   ]
  },
  {
   "cell_type": "markdown",
   "metadata": {},
   "source": [
    "## 2. RCAIDE Imports\n",
    "\n",
    "The **RCAIDE Imports** section includes the core modules needed for the simulation. These libraries provide specialized classes and tools for building, analyzing, and running aircraft models.\n",
    "\n",
    "### Key Imports:\n",
    "\n",
    "1. **RCAIDE**: The core package is imported directly. This approach allows us to access specific classes and methods from RCAIDE without repeatedly importing individual components at the top of the script.\n",
    "\n",
    "2. **`Units` Module**: The Units module is a standardized way to handle unit conversions within RCAIDE. It ensures consistent units across all inputs and outputs, reducing the likelihood of conversion errors.\n",
    "\n",
    "3. **design_turbofan**, **wing_planform**, **segment_properties** : These functions are used in designing the vehicle to size the engines based on certain parameters, and create geometry.\n",
    "\n",
    "4. **compute_payload_range_diagram** : This function is used to compute the payload range diagram of the aircraft. It accepts inputs of the vehicle and analysis conditions and returns a payload range diagram.\n"
   ]
  },
  {
   "cell_type": "code",
   "execution_count": 2,
   "metadata": {
    "execution": {
     "iopub.execute_input": "2025-04-10T19:13:41.178825Z",
     "iopub.status.busy": "2025-04-10T19:13:41.178413Z",
     "iopub.status.idle": "2025-04-10T19:13:42.055882Z",
     "shell.execute_reply": "2025-04-10T19:13:42.055262Z"
    }
   },
   "outputs": [],
   "source": [
    "# RCAIDE imports  \n",
    "import RCAIDE\n",
    "from RCAIDE.Framework.Core import Units , Container\n",
    "from RCAIDE.Library.Methods.Performance.compute_payload_range_diagram        import compute_payload_range_diagram\n",
    "from RCAIDE.Library.Methods.Powertrain.Propulsors.Turbofan   import design_turbofan\n",
    "from RCAIDE.Library.Methods.Geometry.Planform               import wing_planform, segment_properties\n",
    "from RCAIDE.Library.Plots                 import *   "
   ]
  },
  {
   "cell_type": "markdown",
   "metadata": {},
   "source": [
    "## 3. Vehicle Setup\n",
    "\n",
    "The **`vehicle_setup`** function defines the baseline configuration of the aircraft. This section builds the vehicle step-by-step by specifying its components, geometric properties, and high-level parameters.\n",
    "\n",
    "A detailed description of the vehicle setup is provided in the [Tutorial 1](tutorial_01_turbofan_aircraft.ipynb)."
   ]
  },
  {
   "cell_type": "code",
   "execution_count": 3,
   "metadata": {
    "execution": {
     "iopub.execute_input": "2025-04-10T19:13:42.058822Z",
     "iopub.status.busy": "2025-04-10T19:13:42.058503Z",
     "iopub.status.idle": "2025-04-10T19:13:42.093078Z",
     "shell.execute_reply": "2025-04-10T19:13:42.092515Z"
    }
   },
   "outputs": [],
   "source": [
    "# ----------------------------------------------------------------------------------------------------------------------\n",
    "#   Build the Vehicle\n",
    "# ----------------------------------------------------------------------------------------------------------------------\n",
    "def vehicle_setup():\n",
    "    \n",
    "    #------------------------------------------------------------------------------------------------------------------------------------\n",
    "    # ################################################# Vehicle-level Properties ########################################################  \n",
    "    #------------------------------------------------------------------------------------------------------------------------------------\n",
    "    vehicle = RCAIDE.Vehicle()\n",
    "    vehicle.tag = 'Embraer_E190AR'\n",
    " \n",
    "    # mass properties (http://www.embraercommercialaviation.com/AircraftPDF/E190_Weights.pdf)\n",
    "    vehicle.mass_properties.max_takeoff               = 51800.   # kg\n",
    "    vehicle.mass_properties.operating_empty           = 27900.   # kg\n",
    "    vehicle.mass_properties.takeoff                   = 51800.   # kg\n",
    "    vehicle.mass_properties.max_zero_fuel             = 40900.   # kg\n",
    "    vehicle.mass_properties.max_payload               = 13063.   # kg\n",
    "    vehicle.mass_properties.max_fuel                  = 13100.   # kg\n",
    "    vehicle.mass_properties.cargo                     =   0.0  # kg\n",
    "\n",
    "    vehicle.mass_properties.center_of_gravity         = [[16.8, 0, 1.6]]\n",
    "    vehicle.mass_properties.moments_of_inertia.tensor = [[10 ** 5, 0, 0],[0, 10 ** 6, 0,],[0,0, 10 ** 7]] \n",
    "\n",
    "    # envelope properties\n",
    "    vehicle.flight_envelope.ultimate_load             = 3.5 \n",
    "    vehicle.flight_envelope.ultimate_load             = 3.75\n",
    "    vehicle.flight_envelope.positive_limit_load       = 2.5 \n",
    "    vehicle.flight_envelope.design_mach_number        = 0.78 \n",
    "    vehicle.flight_envelope.design_cruise_altitude    = 35000*Units.feet\n",
    "    vehicle.flight_envelope.design_range              = 2000 * Units.nmi\n",
    "    \n",
    "    # basic parameters\n",
    "    vehicle.reference_area                            = 92.\n",
    "    vehicle.passengers                                = 106\n",
    "    vehicle.systems.control                           = \"fully powered\"\n",
    "    vehicle.systems.accessories                       = \"medium range\"\n",
    "\n",
    "\n",
    "    #------------------------------------------------------------------------------------------------------------------------------------\n",
    "    # ######################################################## Wings ####################################################################  \n",
    "    #------------------------------------------------------------------------------------------------------------------------------------\n",
    "    # ------------------------------------------------------------------\n",
    "    #   Main Wing\n",
    "    # ------------------------------------------------------------------\n",
    "    wing                         = RCAIDE.Library.Components.Wings.Main_Wing()\n",
    "    wing.tag                     = 'main_wing'\n",
    "    wing.areas.reference         = 92.0\n",
    "    wing.aspect_ratio            = 8.4\n",
    "    wing.chords.root             = 6.2\n",
    "    wing.chords.tip              = 1.44\n",
    "    wing.sweeps.quarter_chord    = 23.0 * Units.deg\n",
    "    wing.thickness_to_chord      = 0.1\n",
    "    wing.taper                   = 0.28\n",
    "    wing.dihedral                = 5.00 * Units.deg\n",
    "    wing.spans.projected         = 28.72\n",
    "    wing.origin                  = [[13.0,0,-1.]]\n",
    "    wing.vertical                = False\n",
    "    wing.symmetric               = True       \n",
    "    wing.high_lift               = True\n",
    "    wing.areas.exposed           = 0.80 * wing.areas.wetted        \n",
    "    wing.twists.root             = 2.0 * Units.degrees\n",
    "    wing.twists.tip              = 0.0 * Units.degrees    \n",
    "    wing.dynamic_pressure_ratio  = 1.0\n",
    "    \n",
    "    ospath                                = os.path.abspath(os.path.join('Notebook'))\n",
    "    separator                             = os.path.sep\n",
    "    rel_path                              = os.path.dirname(ospath) + separator + '..' + separator + '..' + separator + 'VnV' + separator + 'Vehicles' + separator\n",
    "    \n",
    "    segment = RCAIDE.Library.Components.Wings.Segments.Segment()\n",
    "    segment.tag                   = 'root'\n",
    "    segment.percent_span_location = 0.0\n",
    "    segment.twist                 = 0. * Units.deg\n",
    "    segment.root_chord_percent    = 1.\n",
    "    segment.thickness_to_chord    = .11\n",
    "    segment.dihedral_outboard     = 5. * Units.degrees\n",
    "    segment.sweeps.quarter_chord  = 20.6 * Units.degrees \n",
    "    root_airfoil                  = RCAIDE.Library.Components.Airfoils.Airfoil()\n",
    "    root_airfoil.coordinate_file  = rel_path  + 'Airfoils' + separator + 'B737a.txt'\n",
    "    segment.append_airfoil(root_airfoil)\n",
    "    wing.segments.append(segment)    \n",
    "    \n",
    "    segment = RCAIDE.Library.Components.Wings.Segments.Segment()\n",
    "    segment.tag                   = 'yehudi'\n",
    "    segment.percent_span_location = 0.348\n",
    "    segment.root_chord_percent    = 0.60\n",
    "    segment.thickness_to_chord    = .11\n",
    "    segment.dihedral_outboard     = 4 * Units.degrees\n",
    "    segment.sweeps.quarter_chord  = 24.1 * Units.degrees\n",
    "    yehudi_airfoil                = RCAIDE.Library.Components.Airfoils.Airfoil()\n",
    "    yehudi_airfoil.coordinate_file= rel_path+ 'Airfoils' + separator + 'B737b.txt'\n",
    "    segment.append_airfoil(yehudi_airfoil)\n",
    "    wing.segments.append(segment)\n",
    "    \n",
    "    segment = RCAIDE.Library.Components.Wings.Segments.Segment()\n",
    "    segment.tag                   = 'section_2'\n",
    "    segment.percent_span_location = 0.961\n",
    "    segment.root_chord_percent    = 0.25\n",
    "    segment.thickness_to_chord    = .11\n",
    "    segment.dihedral_outboard     = 70. * Units.degrees\n",
    "    segment.sweeps.quarter_chord  = 40. * Units.degrees\n",
    "    mid_airfoil                   = RCAIDE.Library.Components.Airfoils.Airfoil()\n",
    "    mid_airfoil.coordinate_file   = rel_path + 'Airfoils' + separator + 'B737c.txt'\n",
    "    segment.append_airfoil(mid_airfoil)\n",
    "    wing.segments.append(segment)\n",
    "\n",
    "    segment = RCAIDE.Library.Components.Wings.Segments.Segment() \n",
    "    segment.tag                   = 'Tip'\n",
    "    segment.percent_span_location = 1.\n",
    "    segment.root_chord_percent    = 0.070\n",
    "    segment.thickness_to_chord    = .11\n",
    "    segment.dihedral_outboard     = 0.\n",
    "    segment.sweeps.quarter_chord  = 0. \n",
    "    tip_airfoil                   =  RCAIDE.Library.Components.Airfoils.Airfoil()\n",
    "    tip_airfoil.coordinate_file   = rel_path + 'Airfoils' + separator + 'B737d.txt'\n",
    "    segment.append_airfoil(tip_airfoil)\n",
    "    wing.segments.append(segment)       \n",
    "    \n",
    "    # Fill out more segment properties automatically\n",
    "    wing = segment_properties(wing)        \n",
    "\n",
    "    # control surfaces -------------------------------------------\n",
    "    flap                       = RCAIDE.Library.Components.Wings.Control_Surfaces.Flap() \n",
    "    flap.tag                   = 'flap' \n",
    "    flap.span_fraction_start   = 0.1\n",
    "    flap.span_fraction_end     = 0.85\n",
    "    flap.deflection            = 0.0 * Units.deg \n",
    "    flap.chord_fraction        = 0.28    \n",
    "    flap.configuration_type    = 'double_slotted'\n",
    "    wing.append_control_surface(flap)   \n",
    "        \n",
    "    slat                       = RCAIDE.Library.Components.Wings.Control_Surfaces.Slat()\n",
    "    slat.tag                   = 'slat' \n",
    "    slat.span_fraction_start   = 0.324 \n",
    "    slat.span_fraction_end     = 0.963     \n",
    "    slat.deflection            = 1.0 * Units.deg \n",
    "    slat.chord_fraction        = 0.1   \n",
    "    wing.append_control_surface(slat) \n",
    "    \n",
    "    wing                         = wing_planform(wing)\n",
    "    \n",
    "    wing.areas.exposed           = 0.80 * wing.areas.wetted\n",
    "    wing.twists.root             = 2.0 * Units.degrees\n",
    "    wing.twists.tip              = 0.0 * Units.degrees    \n",
    "    wing.dynamic_pressure_ratio  = 1.0   \n",
    "\n",
    "    # add to vehicle\n",
    "    vehicle.append_component(wing)\n",
    "    \n",
    "    # ------------------------------------------------------------------\n",
    "    #  Horizontal Stabilizer\n",
    "    # ------------------------------------------------------------------\n",
    "\n",
    "    wing = RCAIDE.Library.Components.Wings.Horizontal_Tail()\n",
    "    wing.tag = 'horizontal_stabilizer'\n",
    "    wing.areas.reference         = 26.0\n",
    "    wing.aspect_ratio            = 5.5\n",
    "    wing.sweeps.quarter_chord    = 34.5 * Units.deg\n",
    "    wing.thickness_to_chord      = 0.1\n",
    "    wing.taper                   = 0.2\n",
    "    wing.dihedral                = 8.4 * Units.degrees\n",
    "    wing.origin                  = [[31,0,1.5]]\n",
    "    wing.vertical                = False\n",
    "    wing.symmetric               = True       \n",
    "    wing.high_lift               = False  \n",
    "    wing                         = wing_planform(wing)\n",
    "    wing.areas.exposed           = 0.9 * wing.areas.wetted \n",
    "    wing.twists.root             = 2.0 * Units.degrees\n",
    "    wing.twists.tip              = 2.0 * Units.degrees    \n",
    "    wing.dynamic_pressure_ratio  = 0.90\n",
    "\n",
    "    # add to vehicle\n",
    "    vehicle.append_component(wing)\n",
    "\n",
    "    # ------------------------------------------------------------------\n",
    "    #   Vertical Stabilizer\n",
    "    # ------------------------------------------------------------------\n",
    "\n",
    "    wing = RCAIDE.Library.Components.Wings.Vertical_Tail()\n",
    "    wing.tag = 'vertical_stabilizer'\n",
    "    wing.areas.reference         = 16.0\n",
    "    wing.aspect_ratio            =  1.7\n",
    "    wing.sweeps.quarter_chord    = 35. * Units.deg\n",
    "    wing.thickness_to_chord      = 0.1\n",
    "    wing.taper                   = 0.31\n",
    "    wing.dihedral                = 0.00\n",
    "    wing.origin                  = [[30.4,0,1.675]]\n",
    "    wing.vertical                = True\n",
    "    wing.symmetric               = False       \n",
    "    wing.high_lift               = False\n",
    "    wing                         = wing_planform(wing)\n",
    "    wing.areas.exposed           = 0.9 * wing.areas.wetted\n",
    "    wing.twists.root             = 0.0 * Units.degrees\n",
    "    wing.twists.tip              = 0.0 * Units.degrees    \n",
    "    wing.dynamic_pressure_ratio  = 1.00\n",
    "    \n",
    "    # add to vehicle\n",
    "    vehicle.append_component(wing)\n",
    "    \n",
    "    # ------------------------------------------------------------------\n",
    "    #  Fuselage\n",
    "    # ------------------------------------------------------------------\n",
    "\n",
    "    fuselage                       = RCAIDE.Library.Components.Fuselages.Tube_Fuselage() \n",
    "    fuselage.origin                = [[0,0,0]]\n",
    "\n",
    "\n",
    "    cabin         = RCAIDE.Library.Components.Fuselages.Cabins.Cabin() \n",
    "    economy_class = RCAIDE.Library.Components.Fuselages.Cabins.Classes.Economy() \n",
    "    economy_class.number_of_seats_abrest              = 4\n",
    "    economy_class.number_of_rows                      = 23\n",
    "    economy_class.galley_lavatory_percent_x_locations = [0, 1]      \n",
    "    economy_class.emergency_exit_percent_x_locations  = [0.5, 0.5]      \n",
    "    economy_class.type_A_exit_percent_x_locations     = [0, 1]     \n",
    "    cabin.append_cabin_class(economy_class)\n",
    "    fuselage.append_cabin(cabin) \n",
    "\n",
    "    fuselage.fineness.nose         = 1.28\n",
    "    fuselage.fineness.tail         = 3.48\n",
    "\n",
    "    fuselage.lengths.nose          = 6.0\n",
    "    fuselage.lengths.tail          = 9.0\n",
    "    fuselage.lengths.cabin         = 21.24\n",
    "    fuselage.lengths.total         = 36.24 \n",
    "\n",
    "    fuselage.width                 = 3.01 * Units.meters\n",
    "\n",
    "    fuselage.heights.maximum       = 3.35    \n",
    "    fuselage.heights.at_quarter_length          = 3.35 \n",
    "    fuselage.heights.at_three_quarters_length   = 3.35 \n",
    "    fuselage.heights.at_wing_root_quarter_chord = 3.35 \n",
    "\n",
    "    fuselage.areas.side_projected  = 239.20\n",
    "    fuselage.areas.wetted          = 327.01\n",
    "    fuselage.areas.front_projected = 8.0110\n",
    "\n",
    "    fuselage.effective_diameter    = 3.18\n",
    "\n",
    "    fuselage.differential_pressure = 10**5 * Units.pascal    # Maximum differential pressure  \n",
    "    \n",
    "\n",
    "    # Segment  \n",
    "    segment                                     = RCAIDE.Library.Components.Fuselages.Segments.Segment() \n",
    "    segment.tag                                 = 'segment_0'    \n",
    "    segment.percent_x_location                  = 0.0000\n",
    "    segment.percent_z_location                  = -0.00144 \n",
    "    segment.height                              = 0.0100 \n",
    "    segment.width                               = 0.0100  \n",
    "    fuselage.segments.append(segment)   \n",
    "    \n",
    "    # Segment  \n",
    "    segment                                     = RCAIDE.Library.Components.Fuselages.Segments.Segment() \n",
    "    segment.tag                                 = 'segment_1'    \n",
    "    segment.percent_x_location                  = 0.00576 \n",
    "    segment.percent_z_location                  = -0.00144 \n",
    "    segment.height                              = 0.7500\n",
    "    segment.width                               = 0.6500\n",
    "    fuselage.segments.append(segment)   \n",
    "    \n",
    "    # Segment                                   \n",
    "    segment                                     = RCAIDE.Library.Components.Fuselages.Segments.Segment()\n",
    "    segment.tag                                 = 'segment_2'   \n",
    "    segment.percent_x_location                  = 0.02017 \n",
    "    segment.percent_z_location                  = 0.00000 \n",
    "    segment.height                              = 1.52783 \n",
    "    segment.width                               = 1.20043 \n",
    "    fuselage.segments.append(segment)      \n",
    "    \n",
    "    # Segment                                   \n",
    "    segment                                     = RCAIDE.Library.Components.Fuselages.Segments.Segment()\n",
    "    segment.tag                                 = 'segment_3'   \n",
    "    segment.percent_x_location                  = 0.03170 \n",
    "    segment.percent_z_location                  = 0.00000 \n",
    "    segment.height                              = 1.96435 \n",
    "    segment.width                               = 1.52783 \n",
    "    fuselage.segments.append(segment)   \n",
    "\n",
    "    # Segment                                   \n",
    "    segment                                     = RCAIDE.Library.Components.Fuselages.Segments.Segment()\n",
    "    segment.tag                                 = 'segment_4'   \n",
    "    segment.percent_x_location                  = 0.04899 \t\n",
    "    segment.percent_z_location                  = 0.00431 \n",
    "    segment.height                              = 2.72826 \n",
    "    segment.width                               = 1.96435 \n",
    "    fuselage.segments.append(segment)   \n",
    "    \n",
    "    # Segment                                   \n",
    "    segment                                     = RCAIDE.Library.Components.Fuselages.Segments.Segment()\n",
    "    segment.tag                                 = 'segment_5'   \n",
    "    segment.percent_x_location                  = 0.07781 \n",
    "    segment.percent_z_location                  = 0.00861 \n",
    "    segment.height                              = 3.49217 \n",
    "    segment.width                               = 2.61913 \n",
    "    fuselage.segments.append(segment)     \n",
    "    \n",
    "    # Segment                                   \n",
    "    segment                                     = RCAIDE.Library.Components.Fuselages.Segments.Segment()\n",
    "    segment.tag                                 = 'segment_6'   \n",
    "    segment.percent_x_location                  = 0.10375 \n",
    "    segment.percent_z_location                  = 0.01005 \n",
    "    segment.height                              = 3.70130 \n",
    "    segment.width                               = 3.05565 \n",
    "    fuselage.segments.append(segment)             \n",
    "     \n",
    "    # Segment                                   \n",
    "    segment                                     = RCAIDE.Library.Components.Fuselages.Segments.Segment()\n",
    "    segment.tag                                 = 'segment_7'   \n",
    "    segment.percent_x_location                  = 0.16427 \n",
    "    segment.percent_z_location                  = 0.01148 \n",
    "    segment.height                              = 3.92870 \n",
    "    segment.width                               = 3.71043 \n",
    "    fuselage.segments.append(segment)    \n",
    "    \n",
    "    # Segment                                   \n",
    "    segment                                     = RCAIDE.Library.Components.Fuselages.Segments.Segment()\n",
    "    segment.tag                                 = 'segment_8'   \n",
    "    segment.percent_x_location                  = 0.22478 \n",
    "    segment.percent_z_location                  = 0.01148 \n",
    "    segment.height                              = 3.92870 \n",
    "    segment.width                               = 3.92870 \n",
    "    fuselage.segments.append(segment)   \n",
    "    \n",
    "    # Segment                                   \n",
    "    segment                                     = RCAIDE.Library.Components.Fuselages.Segments.Segment()\n",
    "    segment.tag                                 = 'segment_9'     \n",
    "    segment.percent_x_location                  = 0.69164 \n",
    "    segment.percent_z_location                  = 0.01292\n",
    "    segment.height                              = 3.81957\n",
    "    segment.width                               = 3.81957\n",
    "    fuselage.segments.append(segment)     \n",
    "        \n",
    "    # Segment                                   \n",
    "    segment                                     = RCAIDE.Library.Components.Fuselages.Segments.Segment()\n",
    "    segment.tag                                 = 'segment_10'     \n",
    "    segment.percent_x_location                  = 0.71758 \n",
    "    segment.percent_z_location                  = 0.01292\n",
    "    segment.height                              = 3.81957\n",
    "    segment.width                               = 3.81957\n",
    "    fuselage.segments.append(segment)   \n",
    "        \n",
    "    # Segment                                   \n",
    "    segment                                     = RCAIDE.Library.Components.Fuselages.Segments.Segment()\n",
    "    segment.tag                                 = 'segment_11'     \n",
    "    segment.percent_x_location                  = 0.78098 \n",
    "    segment.percent_z_location                  = 0.01722\n",
    "    segment.height                              = 3.49217\n",
    "    segment.width                               = 3.71043\n",
    "    fuselage.segments.append(segment)    \n",
    "        \n",
    "    # Segment                                   \n",
    "    segment                                     = RCAIDE.Library.Components.Fuselages.Segments.Segment()\n",
    "    segment.tag                                 = 'segment_12'     \n",
    "    segment.percent_x_location                  = 0.85303\n",
    "    segment.percent_z_location                  = 0.02296\n",
    "    segment.height                              = 3.05565\n",
    "    segment.width                               = 3.16478\n",
    "    fuselage.segments.append(segment)             \n",
    "        \n",
    "    # Segment                                   \n",
    "    segment                                     = RCAIDE.Library.Components.Fuselages.Segments.Segment()\n",
    "    segment.tag                                 = 'segment_13'     \n",
    "    segment.percent_x_location                  = 0.91931 \n",
    "    segment.percent_z_location                  = 0.03157\n",
    "    segment.height                              = 2.40087\n",
    "    segment.width                               = 1.96435\n",
    "    fuselage.segments.append(segment)               \n",
    "        \n",
    "    # Segment                                   \n",
    "    segment                                     = RCAIDE.Library.Components.Fuselages.Segments.Segment()\n",
    "    segment.tag                                 = 'segment_14'     \n",
    "    segment.percent_x_location                  = 1.00 \n",
    "    segment.percent_z_location                  = 0.04593\n",
    "    segment.height                              = 1.09130\n",
    "    segment.width                               = 0.21826\n",
    "    fuselage.segments.append(segment)       \n",
    "\n",
    "    # add to vehicle\n",
    "    vehicle.append_component(fuselage) \n",
    "\n",
    "    #------------------------------------------------------------------------------------------------------------------------------------  \n",
    "    #  Landing Gear\n",
    "    #------------------------------------------------------------------------------------------------------------------------------------  \n",
    "    main_gear               = RCAIDE.Library.Components.Landing_Gear.Main_Landing_Gear()\n",
    "    main_gear.tire_diameter = 1.12000 * Units.m\n",
    "    main_gear.strut_length  = 1.8 * Units.m \n",
    "    main_gear.units         = 2    # Number of main landing gear\n",
    "    main_gear.wheels        = 2    # Number of wheels on the main landing gear\n",
    "    vehicle.append_component(main_gear)  \n",
    "\n",
    "    nose_gear               = RCAIDE.Library.Components.Landing_Gear.Nose_Landing_Gear()       \n",
    "    nose_gear.tire_diameter = 0.6858 * Units.m\n",
    "    nose_gear.units         = 1    # Number of nose landing gear\n",
    "    nose_gear.wheels        = 2    # Number of wheels on the nose landing gear\n",
    "    nose_gear.strut_length  = 1.3 * Units.m \n",
    "    vehicle.append_component(nose_gear)\n",
    "\n",
    "  \n",
    "    #------------------------------------------------------------------------------------------------------------------------------------  \n",
    "    #  Fuel Network\n",
    "    #------------------------------------------------------------------------------------------------------------------------------------  \n",
    "    #initialize the fuel network\n",
    "    net                                         = RCAIDE.Framework.Networks.Fuel() \n",
    "    \n",
    "    #------------------------------------------------------------------------------------------------------------------------------------  \n",
    "    # Fuel Distrubition Line \n",
    "    #------------------------------------------------------------------------------------------------------------------------------------  \n",
    "    fuel_line                                   = RCAIDE.Library.Components.Powertrain.Distributors.Fuel_Line() \n",
    "    \n",
    "    #------------------------------------------------------------------------------------------------------------------------------------  \n",
    "    #  Fuel Tank & Fuel\n",
    "    #------------------------------------------------------------------------------------------------------------------------------------   \n",
    "    fuel_tank                                   = RCAIDE.Library.Components.Powertrain.Sources.Fuel_Tanks.Fuel_Tank()\n",
    "    fuel_tank.origin                            = [[13.0,0,-1.]] \n",
    "    # append correct fuel\n",
    "    fuel                                        = RCAIDE.Library.Attributes.Propellants.Jet_A()  \n",
    "    fuel.mass_properties.mass                   = vehicle.mass_properties.max_takeoff-vehicle.mass_properties.max_fuel\n",
    "    fuel.origin                                 = [[13.0,0,-1.]]      \n",
    "    fuel.mass_properties.center_of_gravity      = [[13.0,0,-1.]]\n",
    "    fuel.internal_volume                        = fuel.mass_properties.mass/fuel.density  \n",
    "    fuel_tank.fuel                              = fuel\n",
    "    fuel_line.fuel_tanks.append(fuel_tank) \n",
    "    \n",
    "\n",
    "    #------------------------------------------------------------------------------------------------------------------------------------  \n",
    "    #  Propulsor\n",
    "    #------------------------------------------------------------------------------------------------------------------------------------    \n",
    "    turbofan                                        = RCAIDE.Library.Components.Powertrain.Propulsors.Turbofan() \n",
    "    turbofan.tag                                    = 'starboard_propulsor'  \n",
    "    turbofan.length                                 = 3.7    \n",
    "    turbofan.bypass_ratio                           = 5.4   \n",
    "    turbofan.diameter                               = 1.4\n",
    "    turbofan.design_altitude                        = 35000.0*Units.ft\n",
    "    turbofan.design_mach_number                     = 0.78   \n",
    "    turbofan.design_thrust                          = 37278.0* Units.N#/2 \n",
    "     \n",
    "    # Nacelle \n",
    "    nacelle                                         = RCAIDE.Library.Components.Nacelles.Body_of_Revolution_Nacelle()\n",
    "    nacelle.diameter                                = 2.05\n",
    "    nacelle.length                                  = 2.71\n",
    "    nacelle.tag                                     = 'nacelle_1'\n",
    "    nacelle.inlet_diameter                          = 2.0\n",
    "    nacelle.origin                                  = [[12.0,4.38,-2.1]] \n",
    "    nacelle.areas.wetted                            = 1.1*np.pi*nacelle.diameter*nacelle.length\n",
    "    nacelle_airfoil                                 = RCAIDE.Library.Components.Airfoils.NACA_4_Series_Airfoil()\n",
    "    nacelle_airfoil.NACA_4_Series_code              = '2410'\n",
    "    nacelle.append_airfoil(nacelle_airfoil)\n",
    "    turbofan.nacelle                                = nacelle\n",
    "                  \n",
    "    # fan                     \n",
    "    fan                                             = RCAIDE.Library.Components.Powertrain.Converters.Fan()   \n",
    "    fan.tag                                         = 'fan'\n",
    "    fan.polytropic_efficiency                       = 0.93\n",
    "    fan.pressure_ratio                              = 1.7   \n",
    "    turbofan.fan                                    = fan        \n",
    "                        \n",
    "    # working fluid                        \n",
    "    turbofan.working_fluid                          = RCAIDE.Library.Attributes.Gases.Air() \n",
    "    ram                                             = RCAIDE.Library.Components.Powertrain.Converters.Ram()\n",
    "    ram.tag                                         = 'ram' \n",
    "    turbofan.ram                                    = ram \n",
    "               \n",
    "    # inlet nozzle               \n",
    "    inlet_nozzle                                    = RCAIDE.Library.Components.Powertrain.Converters.Compression_Nozzle()\n",
    "    inlet_nozzle.tag                                = 'inlet nozzle'\n",
    "    inlet_nozzle.polytropic_efficiency              = 0.98\n",
    "    inlet_nozzle.pressure_ratio                     = 0.98 \n",
    "    turbofan.inlet_nozzle                           = inlet_nozzle\n",
    "\n",
    "\n",
    "    # low pressure compressor    \n",
    "    low_pressure_compressor                        = RCAIDE.Library.Components.Powertrain.Converters.Compressor()    \n",
    "    low_pressure_compressor.tag                    = 'lpc'\n",
    "    low_pressure_compressor.polytropic_efficiency  = 0.91\n",
    "    low_pressure_compressor.pressure_ratio         = 1.9   \n",
    "    turbofan.low_pressure_compressor               = low_pressure_compressor\n",
    "\n",
    "    # high pressure compressor  \n",
    "    high_pressure_compressor                       = RCAIDE.Library.Components.Powertrain.Converters.Compressor()    \n",
    "    high_pressure_compressor.tag                   = 'hpc'\n",
    "    high_pressure_compressor.polytropic_efficiency = 0.91\n",
    "    high_pressure_compressor.pressure_ratio        = 10.0    \n",
    "    turbofan.high_pressure_compressor              = high_pressure_compressor\n",
    "\n",
    "    # low pressure turbine  \n",
    "    low_pressure_turbine                           = RCAIDE.Library.Components.Powertrain.Converters.Turbine()   \n",
    "    low_pressure_turbine.tag                       ='lpt'\n",
    "    low_pressure_turbine.mechanical_efficiency     = 0.99\n",
    "    low_pressure_turbine.polytropic_efficiency     = 0.93 \n",
    "    turbofan.low_pressure_turbine                  = low_pressure_turbine\n",
    "   \n",
    "    # high pressure turbine     \n",
    "    high_pressure_turbine                          = RCAIDE.Library.Components.Powertrain.Converters.Turbine()   \n",
    "    high_pressure_turbine.tag                      ='hpt'\n",
    "    high_pressure_turbine.mechanical_efficiency    = 0.99\n",
    "    high_pressure_turbine.polytropic_efficiency    = 0.93 \n",
    "    turbofan.high_pressure_turbine                 = high_pressure_turbine \n",
    "   \n",
    "    # combustor     \n",
    "    combustor                                      = RCAIDE.Library.Components.Powertrain.Converters.Combustor()   \n",
    "    combustor.tag                                  = 'Comb'\n",
    "    combustor.efficiency                           = 0.99 \n",
    "    combustor.alphac                               = 1.0     \n",
    "    combustor.turbine_inlet_temperature            = 1500\n",
    "    combustor.pressure_ratio                       = 0.95\n",
    "    combustor.fuel_data                            = RCAIDE.Library.Attributes.Propellants.Jet_A()  \n",
    "    turbofan.combustor                             = combustor\n",
    "           \n",
    "    # core nozzle           \n",
    "    core_nozzle                                    = RCAIDE.Library.Components.Powertrain.Converters.Expansion_Nozzle()   \n",
    "    core_nozzle.tag                                = 'core nozzle'\n",
    "    core_nozzle.polytropic_efficiency              = 0.95\n",
    "    core_nozzle.pressure_ratio                     = 0.99  \n",
    "    core_nozzle.diameter                           = 0.92    \n",
    "    turbofan.core_nozzle                           = core_nozzle\n",
    "          \n",
    "    # fan nozzle          \n",
    "    fan_nozzle                                  = RCAIDE.Library.Components.Powertrain.Converters.Expansion_Nozzle()   \n",
    "    fan_nozzle.tag                              = 'fan nozzle'\n",
    "    fan_nozzle.polytropic_efficiency            = 0.95\n",
    "    fan_nozzle.pressure_ratio                   = 0.99 \n",
    "    fan_nozzle.diameter                         = 1.659\n",
    "    turbofan.fan_nozzle                         = fan_nozzle \n",
    "    \n",
    "    # design turbofan\n",
    "    design_turbofan(turbofan)  \n",
    "    \n",
    "    # append propulsor to network\n",
    "    net.propulsors.append(turbofan)\n",
    "\n",
    "\n",
    "    #------------------------------------------------------------------------------------------------------------------------------------  \n",
    "    # Port Propulsor\n",
    "    #------------------------------------------------------------------------------------------------------------------------------------     \n",
    "    \n",
    "    # copy turbofan\n",
    "    turbofan_2                             = deepcopy(turbofan)\n",
    "    turbofan_2.tag                         = 'port_propulsor'  \n",
    "    turbofan_2.origin                      = [[12.0,-4.38,-1.1]]  # change origin  \n",
    "    turbofan_2.nacelle.origin              = [[12.0,-4.38,-2.1]]   \n",
    "    \n",
    "    # append propulsor to network\n",
    "    net.propulsors.append(turbofan_2)\n",
    "\n",
    "    #------------------------------------------------------------------------------------------------------------------------------------   \n",
    "    # Assign propulsors to fuel line    \n",
    "    fuel_line.assigned_propulsors =  [[turbofan.tag, turbofan_2.tag]]\n",
    "\n",
    "    #------------------------------------------------------------------------------------------------------------------------------------   \n",
    "    # Append fuel line to fuel line to network      \n",
    "    net.fuel_lines.append(fuel_line)        \n",
    "    \n",
    "    # Append energy network to aircraft \n",
    "    vehicle.append_energy_network(net)     \n",
    "        \n",
    "    return vehicle\n"
   ]
  },
  {
   "cell_type": "markdown",
   "metadata": {},
   "source": [
    "## 4. Payload Range Diagram\n",
    "\n",
    "With the vehicle setup complete, we can now create the payload range diagram. This involves defining the analysis to use and then calling the payload range function."
   ]
  },
  {
   "cell_type": "markdown",
   "metadata": {},
   "source": [
    "### Define Analysis\n",
    "\n",
    "Before running the payload range diagram method, the analysis that will be used to evaluate the vehicle need to be defined. These analyses include:\n",
    "1. Flight conditions: Including altitude, airspeed, and the active propulsors. An initial guess for maximum range is also provided here.\n",
    "\n",
    "2. Weights: This analysis computes the weight based off of the vehicle setup. It uses aircraft geometry, aircraft type with a regression or physics based weight build-up to compute the weight.\n",
    "\n",
    "3. Aerodynamics: This analysis computes the aerodynamic performance of the aircraft. In this case it uses the Vortex Lattice Method to compute the aerodynamic performance of the vehicle."
   ]
  },
  {
   "cell_type": "code",
   "execution_count": 4,
   "metadata": {
    "execution": {
     "iopub.execute_input": "2025-04-10T19:13:42.095102Z",
     "iopub.status.busy": "2025-04-10T19:13:42.094763Z",
     "iopub.status.idle": "2025-04-10T19:13:42.099298Z",
     "shell.execute_reply": "2025-04-10T19:13:42.098785Z"
    }
   },
   "outputs": [],
   "source": [
    "def fuel_aircraft_base_analysis(vehicle):\n",
    "\n",
    "    # ------------------------------------------------------------------\n",
    "    #   Initialize the Analyses\n",
    "    # ------------------------------------------------------------------     \n",
    "    analyses = RCAIDE.Framework.Analyses.Vehicle() \n",
    "    \n",
    "    # ------------------------------------------------------------------\n",
    "    #  Weights \n",
    "    weights         = RCAIDE.Framework.Analyses.Weights.Conventional()\n",
    "    weights.aircraft_type =  \"Transport\"\n",
    "    weights.vehicle = vehicle \n",
    "    weights.settings.update_mass_properties         = False\n",
    "    weights.settings.update_center_of_gravity       = False\n",
    "    weights.settings.update_moment_of_inertia       = False   \n",
    "    weights.print_weight_analysis_report  = False    \n",
    "    analyses.append(weights)\n",
    "\n",
    "    # ------------------------------------------------------------------\n",
    "    #  Aerodynamics Analysis \n",
    "    aerodynamics          = RCAIDE.Framework.Analyses.Aerodynamics.Vortex_Lattice_Method() \n",
    "    aerodynamics.vehicle  = vehicle\n",
    "    aerodynamics.settings.number_of_spanwise_vortices   = 5\n",
    "    aerodynamics.settings.number_of_chordwise_vortices  = 2     \n",
    "    analyses.append(aerodynamics)   \n",
    "\n",
    "    # ------------------------------------------------------------------\n",
    "    #  Energy\n",
    "    energy          = RCAIDE.Framework.Analyses.Energy.Energy()\n",
    "    energy.vehicle  = vehicle \n",
    "    analyses.append(energy)\n",
    "\n",
    "    # ------------------------------------------------------------------\n",
    "    #  Planet Analysis\n",
    "    planet = RCAIDE.Framework.Analyses.Planets.Earth()\n",
    "    analyses.append(planet)\n",
    "\n",
    "    # ------------------------------------------------------------------\n",
    "    #  Atmosphere Analysis\n",
    "    atmosphere = RCAIDE.Framework.Analyses.Atmospheric.US_Standard_1976()\n",
    "    atmosphere.features.planet = planet.features\n",
    "    analyses.append(atmosphere)   \n",
    "\n",
    "    # done!\n",
    "    return analyses    "
   ]
  },
  {
   "cell_type": "code",
   "execution_count": 5,
   "metadata": {
    "execution": {
     "iopub.execute_input": "2025-04-10T19:13:42.100862Z",
     "iopub.status.busy": "2025-04-10T19:13:42.100685Z",
     "iopub.status.idle": "2025-04-10T19:13:42.104814Z",
     "shell.execute_reply": "2025-04-10T19:13:42.104382Z"
    }
   },
   "outputs": [],
   "source": [
    "def fuel_aircraft_mission_setup(analyses): \n",
    "    \n",
    "    # ------------------------------------------------------------------\n",
    "    #   Initialize the Mission\n",
    "    # ------------------------------------------------------------------\n",
    "\n",
    "    mission = RCAIDE.Framework.Mission.Sequential_Segments()\n",
    "    mission.tag = 'mission'\n",
    "  \n",
    "    Segments = RCAIDE.Framework.Mission.Segments \n",
    "    base_segment = Segments.Segment()\n",
    "    base_segment.state.numerics.number_of_control_points  = 3   \n",
    "\n",
    "    # ------------------------------------------------------------------    \n",
    "    #   Cruise Segment \n",
    "    # ------------------------------------------------------------------    \n",
    "\n",
    "    segment = Segments.Cruise.Constant_Speed_Constant_Altitude(base_segment)\n",
    "    segment.tag = \"cruise\" \n",
    "    segment.analyses.extend( analyses.base )  \n",
    "    segment.altitude  =  35000 *  Units.ft\n",
    "    segment.air_speed =  450 * Units['knots']\n",
    "    segment.distance  =  2700 * Units.nmi\n",
    "    \n",
    "    # define flight dynamics to model \n",
    "    segment.flight_dynamics.force_x                      = True  \n",
    "    segment.flight_dynamics.force_z                      = True     \n",
    "    \n",
    "    # define flight controls \n",
    "    segment.assigned_control_variables.throttle.active               = True           \n",
    "    segment.assigned_control_variables.throttle.assigned_propulsors  = [['starboard_propulsor','port_propulsor']]   \n",
    "    segment.assigned_control_variables.body_angle.active             = True                \n",
    "    \n",
    "    mission.append_segment(segment) \n",
    " \n",
    "\n",
    "    return mission"
   ]
  },
  {
   "cell_type": "code",
   "execution_count": 6,
   "metadata": {
    "execution": {
     "iopub.execute_input": "2025-04-10T19:13:42.106532Z",
     "iopub.status.busy": "2025-04-10T19:13:42.106210Z",
     "iopub.status.idle": "2025-04-10T19:13:42.109162Z",
     "shell.execute_reply": "2025-04-10T19:13:42.108606Z"
    }
   },
   "outputs": [],
   "source": [
    "def missions_setup(mission): \n",
    " \n",
    "    missions     = RCAIDE.Framework.Mission.Missions() \n",
    "    mission.tag  = 'base_mission'\n",
    "    missions.append(mission)\n",
    " \n",
    "    return missions   "
   ]
  },
  {
   "cell_type": "code",
   "execution_count": 7,
   "metadata": {
    "execution": {
     "iopub.execute_input": "2025-04-10T19:13:42.110986Z",
     "iopub.status.busy": "2025-04-10T19:13:42.110568Z",
     "iopub.status.idle": "2025-04-10T19:13:42.163920Z",
     "shell.execute_reply": "2025-04-10T19:13:42.163363Z"
    }
   },
   "outputs": [],
   "source": [
    "# vehicle data\n",
    "vehicle             = vehicle_setup()\n",
    "\n",
    "# take out control surfaces to make regression run faster\n",
    "for wing in vehicle.wings:\n",
    "    wing.control_surfaces  = Container() \n",
    "\n",
    "# Set up vehicle configs\n",
    "configs     = RCAIDE.Library.Components.Configs.Config.Container() \n",
    "base_config = RCAIDE.Library.Components.Configs.Config(vehicle)\n",
    "base_config.tag = 'base'  \n",
    "configs.append(base_config)\n",
    "\n",
    "# create analyses\n",
    "analyses = RCAIDE.Framework.Analyses.Analysis.Container()\n",
    "\n",
    "# build a base analysis for each config\n",
    "for tag,config in configs.items():\n",
    "    analysis = fuel_aircraft_base_analysis(config)\n",
    "    analyses[tag] = analysis\n",
    "    \n",
    "# mission analyses \n",
    "mission = fuel_aircraft_mission_setup(analyses)\n",
    "\n",
    "# create mission instances (for multiple types of missions)\n",
    "missions = missions_setup(mission)   "
   ]
  },
  {
   "cell_type": "markdown",
   "metadata": {},
   "source": [
    "### Run Payload Range Method\n",
    "\n",
    "Here, the payload range diagram method, located in the RCAIDE.Methods.Performance.Payload_Range_Diagram module, is called. This method computes the payload range diagram for the aircraft. It accepts the vehicle, assigned propulsors, weights analysis, aerodynamics analysis, cruise airspeed, cruise altitude, and maximum range guess as inputs."
   ]
  },
  {
   "cell_type": "code",
   "execution_count": 8,
   "metadata": {
    "execution": {
     "iopub.execute_input": "2025-04-10T19:13:42.166072Z",
     "iopub.status.busy": "2025-04-10T19:13:42.165659Z",
     "iopub.status.idle": "2025-04-10T19:14:10.964580Z",
     "shell.execute_reply": "2025-04-10T19:14:10.964176Z"
    }
   },
   "outputs": [
    {
     "name": "stdout",
     "output_type": "stream",
     "text": [
      "\n",
      " Mission Solver Initiated\n"
     ]
    },
    {
     "name": "stderr",
     "output_type": "stream",
     "text": [
      "\r",
      "  0%|          | 0/100 [00:00<?, ?it/s]"
     ]
    },
    {
     "name": "stdout",
     "output_type": "stream",
     "text": [
      "\n",
      " Solving cruise segment.\n"
     ]
    },
    {
     "name": "stderr",
     "output_type": "stream",
     "text": [
      "\r",
      "100%|██████████| 100/100 [00:01<00:00, 58.55it/s]"
     ]
    },
    {
     "name": "stderr",
     "output_type": "stream",
     "text": [
      "\r",
      "100%|██████████| 100/100 [00:01<00:00, 58.52it/s]"
     ]
    },
    {
     "name": "stderr",
     "output_type": "stream",
     "text": [
      "\n"
     ]
    },
    {
     "name": "stderr",
     "output_type": "stream",
     "text": [
      "\r",
      "  0%|          | 0/100 [00:00<?, ?it/s]"
     ]
    },
    {
     "name": "stdout",
     "output_type": "stream",
     "text": [
      "\n",
      "\n",
      "\n",
      " Mission Solver Initiated\n"
     ]
    },
    {
     "name": "stderr",
     "output_type": "stream",
     "text": [
      "\r",
      "100%|██████████| 100/100 [00:01<00:00, 59.71it/s]"
     ]
    },
    {
     "name": "stderr",
     "output_type": "stream",
     "text": [
      "\r",
      "100%|██████████| 100/100 [00:01<00:00, 59.69it/s]"
     ]
    },
    {
     "name": "stderr",
     "output_type": "stream",
     "text": [
      "\n"
     ]
    },
    {
     "name": "stderr",
     "output_type": "stream",
     "text": [
      "\r",
      "  0%|          | 0/100 [00:00<?, ?it/s]"
     ]
    },
    {
     "name": "stdout",
     "output_type": "stream",
     "text": [
      "\n",
      " Solving cruise segment.\n",
      "\n",
      "\n",
      "\n",
      " Mission Solver Initiated\n"
     ]
    },
    {
     "name": "stderr",
     "output_type": "stream",
     "text": [
      "\r",
      "100%|██████████| 100/100 [00:01<00:00, 59.32it/s]"
     ]
    },
    {
     "name": "stderr",
     "output_type": "stream",
     "text": [
      "\r",
      "100%|██████████| 100/100 [00:01<00:00, 59.29it/s]"
     ]
    },
    {
     "name": "stderr",
     "output_type": "stream",
     "text": [
      "\n"
     ]
    },
    {
     "name": "stderr",
     "output_type": "stream",
     "text": [
      "\r",
      "  0%|          | 0/100 [00:00<?, ?it/s]"
     ]
    },
    {
     "name": "stdout",
     "output_type": "stream",
     "text": [
      "\n",
      " Solving cruise segment.\n",
      "\n",
      "\n",
      "\n",
      " Mission Solver Initiated\n"
     ]
    },
    {
     "name": "stderr",
     "output_type": "stream",
     "text": [
      "\r",
      "100%|██████████| 100/100 [00:01<00:00, 59.49it/s]"
     ]
    },
    {
     "name": "stderr",
     "output_type": "stream",
     "text": [
      "\r",
      "100%|██████████| 100/100 [00:01<00:00, 59.47it/s]"
     ]
    },
    {
     "name": "stderr",
     "output_type": "stream",
     "text": [
      "\n"
     ]
    },
    {
     "name": "stderr",
     "output_type": "stream",
     "text": [
      "\r",
      "  0%|          | 0/100 [00:00<?, ?it/s]"
     ]
    },
    {
     "name": "stdout",
     "output_type": "stream",
     "text": [
      "\n",
      " Solving cruise segment.\n",
      "\n",
      "\n",
      "\n",
      " Mission Solver Initiated\n"
     ]
    },
    {
     "name": "stderr",
     "output_type": "stream",
     "text": [
      "\r",
      "100%|██████████| 100/100 [00:01<00:00, 58.94it/s]"
     ]
    },
    {
     "name": "stderr",
     "output_type": "stream",
     "text": [
      "\r",
      "100%|██████████| 100/100 [00:01<00:00, 58.91it/s]"
     ]
    },
    {
     "name": "stderr",
     "output_type": "stream",
     "text": [
      "\n"
     ]
    },
    {
     "name": "stderr",
     "output_type": "stream",
     "text": [
      "\r",
      "  0%|          | 0/100 [00:00<?, ?it/s]"
     ]
    },
    {
     "name": "stdout",
     "output_type": "stream",
     "text": [
      "\n",
      " Solving cruise segment.\n",
      "\n",
      "\n",
      "\n",
      " Mission Solver Initiated\n"
     ]
    },
    {
     "name": "stderr",
     "output_type": "stream",
     "text": [
      "\r",
      "100%|██████████| 100/100 [00:01<00:00, 59.38it/s]"
     ]
    },
    {
     "name": "stderr",
     "output_type": "stream",
     "text": [
      "\r",
      "100%|██████████| 100/100 [00:01<00:00, 59.36it/s]"
     ]
    },
    {
     "name": "stderr",
     "output_type": "stream",
     "text": [
      "\n"
     ]
    },
    {
     "name": "stderr",
     "output_type": "stream",
     "text": [
      "\r",
      "  0%|          | 0/100 [00:00<?, ?it/s]"
     ]
    },
    {
     "name": "stdout",
     "output_type": "stream",
     "text": [
      "\n",
      " Solving cruise segment.\n",
      "\n",
      "\n",
      "\n",
      " Mission Solver Initiated\n"
     ]
    },
    {
     "name": "stderr",
     "output_type": "stream",
     "text": [
      "\r",
      "100%|██████████| 100/100 [00:01<00:00, 59.55it/s]"
     ]
    },
    {
     "name": "stderr",
     "output_type": "stream",
     "text": [
      "\r",
      "100%|██████████| 100/100 [00:01<00:00, 59.52it/s]"
     ]
    },
    {
     "name": "stderr",
     "output_type": "stream",
     "text": [
      "\n"
     ]
    },
    {
     "name": "stderr",
     "output_type": "stream",
     "text": [
      "\r",
      "  0%|          | 0/100 [00:00<?, ?it/s]"
     ]
    },
    {
     "name": "stdout",
     "output_type": "stream",
     "text": [
      "\n",
      " Solving cruise segment.\n",
      "\n",
      "\n",
      "\n",
      " Mission Solver Initiated\n"
     ]
    },
    {
     "name": "stderr",
     "output_type": "stream",
     "text": [
      "\r",
      "100%|██████████| 100/100 [00:01<00:00, 59.23it/s]"
     ]
    },
    {
     "name": "stderr",
     "output_type": "stream",
     "text": [
      "\r",
      "100%|██████████| 100/100 [00:01<00:00, 59.20it/s]"
     ]
    },
    {
     "name": "stderr",
     "output_type": "stream",
     "text": [
      "\n"
     ]
    },
    {
     "name": "stderr",
     "output_type": "stream",
     "text": [
      "\r",
      "  0%|          | 0/100 [00:00<?, ?it/s]"
     ]
    },
    {
     "name": "stdout",
     "output_type": "stream",
     "text": [
      "\n",
      " Solving cruise segment.\n",
      "\n",
      "\n",
      "\n",
      " Mission Solver Initiated\n"
     ]
    },
    {
     "name": "stderr",
     "output_type": "stream",
     "text": [
      "\r",
      "100%|██████████| 100/100 [00:01<00:00, 59.42it/s]"
     ]
    },
    {
     "name": "stderr",
     "output_type": "stream",
     "text": [
      "\r",
      "100%|██████████| 100/100 [00:01<00:00, 59.40it/s]"
     ]
    },
    {
     "name": "stderr",
     "output_type": "stream",
     "text": [
      "\n"
     ]
    },
    {
     "name": "stderr",
     "output_type": "stream",
     "text": [
      "\r",
      "  0%|          | 0/100 [00:00<?, ?it/s]"
     ]
    },
    {
     "name": "stdout",
     "output_type": "stream",
     "text": [
      "\n",
      " Solving cruise segment.\n",
      "\n",
      "\n",
      "\n",
      " Mission Solver Initiated\n"
     ]
    },
    {
     "name": "stderr",
     "output_type": "stream",
     "text": [
      "\r",
      "100%|██████████| 100/100 [00:02<00:00, 44.80it/s]"
     ]
    },
    {
     "name": "stderr",
     "output_type": "stream",
     "text": [
      "\r",
      "100%|██████████| 100/100 [00:02<00:00, 44.78it/s]"
     ]
    },
    {
     "name": "stderr",
     "output_type": "stream",
     "text": [
      "\n"
     ]
    },
    {
     "name": "stderr",
     "output_type": "stream",
     "text": [
      "\r",
      "  0%|          | 0/100 [00:00<?, ?it/s]"
     ]
    },
    {
     "name": "stdout",
     "output_type": "stream",
     "text": [
      "\n",
      " Solving cruise segment.\n",
      "\n",
      "\n",
      "\n",
      " Mission Solver Initiated\n"
     ]
    },
    {
     "name": "stderr",
     "output_type": "stream",
     "text": [
      "\r",
      "100%|██████████| 100/100 [00:02<00:00, 45.21it/s]"
     ]
    },
    {
     "name": "stderr",
     "output_type": "stream",
     "text": [
      "\r",
      "100%|██████████| 100/100 [00:02<00:00, 45.20it/s]"
     ]
    },
    {
     "name": "stderr",
     "output_type": "stream",
     "text": [
      "\n"
     ]
    },
    {
     "name": "stderr",
     "output_type": "stream",
     "text": [
      "\r",
      "  0%|          | 0/100 [00:00<?, ?it/s]"
     ]
    },
    {
     "name": "stdout",
     "output_type": "stream",
     "text": [
      "\n",
      " Solving cruise segment.\n",
      "\n",
      "\n",
      "\n",
      " Mission Solver Initiated\n"
     ]
    },
    {
     "name": "stderr",
     "output_type": "stream",
     "text": [
      "\r",
      "100%|██████████| 100/100 [00:02<00:00, 44.93it/s]"
     ]
    },
    {
     "name": "stderr",
     "output_type": "stream",
     "text": [
      "\r",
      "100%|██████████| 100/100 [00:02<00:00, 44.91it/s]"
     ]
    },
    {
     "name": "stderr",
     "output_type": "stream",
     "text": [
      "\n"
     ]
    },
    {
     "data": {
      "image/png": "[encoded data removed]",
      "text/plain": [
       "<Figure size 640x480 with 2 Axes>"
      ]
     },
     "metadata": {},
     "output_type": "display_data"
    }
   ],
   "source": [
    "payload_range_results =  compute_payload_range_diagram(mission = missions.base_mission)"
   ]
  }
 ],
 "metadata": {
  "kernelspec": {
   "display_name": ".rcaideenv",
   "language": "python",
   "name": "python3"
  },
  "language_info": {
   "codemirror_mode": {
    "name": "ipython",
    "version": 3
   },
   "file_extension": ".py",
   "mimetype": "text/x-python",
   "name": "python",
   "nbconvert_exporter": "python",
   "pygments_lexer": "ipython3",
   "version": "3.13.2"
  }
 },
 "nbformat": 4,
 "nbformat_minor": 2
}
