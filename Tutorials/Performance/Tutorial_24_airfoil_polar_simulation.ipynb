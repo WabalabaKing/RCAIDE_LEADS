{
 "cells": [
  {
   "cell_type": "markdown",
   "metadata": {},
   "source": [
    "## Tutorial 24 - Airfoil Polar Simulation\n",
    "Welcome to this tutorial on performing aerodynamic analysis of a turbofan aircraft using RCAIDE. This guide will walk you through the code, explain its components, and highlight where modifications can be made to customize the simulation for different vehicle designs.\n",
    "\n",
    "---"
   ]
  },
  {
   "cell_type": "markdown",
   "metadata": {},
   "source": [
    "## 1. Header and Imports\n",
    "\n",
    "\n",
    "The **Imports** section is divided into two parts: general-purpose Python libraries and simulation-specific libraries."
   ]
  },
  {
   "cell_type": "code",
   "execution_count": 5,
   "metadata": {},
   "outputs": [],
   "source": [
    "import matplotlib.pyplot as plt\n",
    "import numpy as np"
   ]
  },
  {
   "cell_type": "markdown",
   "metadata": {},
   "source": [
    "## 2. RCAIDE Imports\n",
    "\n",
    "The **RCAIDE Imports** section includes the core modules needed for the simulation. These libraries provide specialized classes and tools for building, analyzing, and running aircraft models.\n",
    "\n",
    "### Key Imports:\n",
    "\n",
    "1. **RCAIDE**: The core package is imported directly. This approach allows us to access specific classes and methods from RCAIDE without repeatedly importing individual components at the top of the script.\n",
    "\n",
    "2. **`Units` Module**: The Units module is a standardized way to handle unit conversions within RCAIDE. It ensures consistent units across all inputs and outputs, reducing the likelihood of conversion errors.\n",
    "\n",
    "3. **compute_naca_4series**: This function generates the geometry of an NACA 4-series airfoil. It's a built-in method that simplifies the process of creating airfoil profiles.\n",
    "\n",
    "4. **airfoil_analysis**: This function performs the aerodynamic analysis of an airfoil."
   ]
  },
  {
   "cell_type": "code",
   "execution_count": 6,
   "metadata": {},
   "outputs": [],
   "source": [
    "from RCAIDE.Framework.Core import Units\n",
    "from RCAIDE.Library.Methods.Aerodynamics.Airfoil_Panel_Method   import airfoil_analysis   \n",
    "from RCAIDE.Library.Methods.Geometry.Airfoil    import compute_naca_4series\n",
    "from RCAIDE.Library.Plots  import *"
   ]
  },
  {
   "cell_type": "markdown",
   "metadata": {},
   "source": [
    "## 3. Define Variables and Airfoil Geometry\n",
    "\n",
    "This section defines the Reynolds number and angle of attack values that the analysis will be performed at. It also then defines the NACA airfoil type (NACA 2410) and uses the built-in geometry generator to create the airfoil geometry. Non-NACA airfoils can be used by specifying the airfoil file name and calling the 'airfoil' class in RCAIDE.Library.Components.Airfoils and specifying the 'coordinate_file' location."
   ]
  },
  {
   "cell_type": "code",
   "execution_count": 7,
   "metadata": {},
   "outputs": [],
   "source": [
    "# define Reynolds numbers \n",
    "Re_vals            = np.atleast_2d(np.ones(7)*1E5)  \n",
    "\n",
    "# define angle of attack swee\n",
    "AoA_vals           = np.atleast_2d(np.linspace(-4,8,7)*Units.degrees) \n",
    "\n",
    "# define airfoil name \n",
    "airfoil_file       = '2410'\n",
    "\n",
    "# we are going to use the built-in geometry generator \n",
    "airfoil_geometry   = compute_naca_4series(airfoil_file,npoints = 51)"
   ]
  },
  {
   "cell_type": "markdown",
   "metadata": {},
   "source": [
    "## 4. Analyze Airfoil and Plot Results\n",
    "\n",
    "This section analzes the airfoil at the specified Reynolds numbers and angle of attack values for the specified airfoil geometry. \n",
    "\n",
    "The results are then plotted using the built-in plotting functions. Specifically, the plot_airfoil_surface_forces function plots the surface forces of the airfoil, the plot_airfoil_polars function plots the polars of the airfoil, and the plot_airfoil_boundary_layer_properties function plots the boundary layer properties of the airfoil. More detail on these functions can be found in the RCAIDE documentation."
   ]
  },
  {
   "cell_type": "code",
   "execution_count": null,
   "metadata": {},
   "outputs": [],
   "source": [
    "# compute airfoil properties using panel code \n",
    "airfoil_properties = airfoil_analysis(airfoil_geometry,AoA_vals,Re_vals)  \n",
    "\n",
    "# Plots     \n",
    "plot_airfoil_surface_forces(airfoil_properties)   \n",
    "plot_airfoil_polars(airfoil_properties) \n",
    "plot_airfoil_boundary_layer_properties(airfoil_properties,show_legend = True)   "
   ]
  }
 ],
 "metadata": {
  "kernelspec": {
   "display_name": ".rcaideenv",
   "language": "python",
   "name": "python3"
  },
  "language_info": {
   "codemirror_mode": {
    "name": "ipython",
    "version": 3
   },
   "file_extension": ".py",
   "mimetype": "text/x-python",
   "name": "python",
   "nbconvert_exporter": "python",
   "pygments_lexer": "ipython3",
   "version": "3.12.8"
  }
 },
 "nbformat": 4,
 "nbformat_minor": 2
}
