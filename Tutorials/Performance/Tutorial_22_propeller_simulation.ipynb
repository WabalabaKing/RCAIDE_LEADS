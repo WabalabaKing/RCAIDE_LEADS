{
 "cells": [
  {
   "cell_type": "markdown",
   "metadata": {},
   "source": [
    "## Tutorial 22 - Propeller Simulation\n",
    "Welcome to this tutorial on performing propeller simulations. This guide will walk you through the code, explain its components, and highlight where modifications can be made to customize the simulation for different designs.\n",
    "\n",
    "---"
   ]
  },
  {
   "cell_type": "markdown",
   "metadata": {},
   "source": [
    "## 1. Header and Imports\n",
    "\n",
    "\n",
    "The **Imports** section is divided into two parts: general-purpose Python libraries and simulation-specific libraries."
   ]
  },
  {
   "cell_type": "code",
   "execution_count": 1,
   "metadata": {},
   "outputs": [],
   "source": [
    "import os\n",
    "import numpy as np \n",
    "import matplotlib.pyplot as plt   "
   ]
  },
  {
   "cell_type": "markdown",
   "metadata": {},
   "source": [
    "## 2. RCAIDE Imports\n",
    "\n",
    "The **RCAIDE Imports** section includes the core modules needed for the simulation. These libraries provide specialized classes and tools for building, analyzing, and running aircraft models.\n",
    "\n",
    "### Key Imports:\n",
    "\n",
    "1. **RCAIDE**: The core package is imported directly. This approach allows us to access specific classes and methods from RCAIDE without repeatedly importing individual components at the top of the script.\n",
    "\n",
    "2. **`Units` Module**: The Units module is a standardized way to handle unit conversions within RCAIDE. It ensures consistent units across all inputs and outputs, reducing the likelihood of conversion errors.\n",
    "\n",
    "3. **design_propeller**: This function is used to design a propeller based on given parameters. It takes a propeller object and sets its properties based on the inputs.\n",
    "\n",
    "4. **rotor_aerodynamic_analysis**: This function performs the propeller aerodynamic analysis.\n"
   ]
  },
  {
   "cell_type": "code",
   "execution_count": null,
   "metadata": {},
   "outputs": [],
   "source": [
    "\n",
    "import RCAIDE\n",
    "from RCAIDE.Framework.Core                              import Units\n",
    "from RCAIDE.Library.Plots                               import *    \n",
    "from RCAIDE.Library.Methods.Powertrain.Converters.Rotor import design_propeller \n",
    "from RCAIDE.Library.Methods.Performance                 import rotor_aerodynamic_analysis  \n",
    "\n"
   ]
  },
  {
   "cell_type": "code",
   "execution_count": null,
   "metadata": {},
   "outputs": [],
   "source": []
  },
  {
   "cell_type": "markdown",
   "metadata": {},
   "source": [
    "## 3. Propeller Design\n",
    "\n",
    "This section defines the propeller that is to be analysed. \n",
    "\n",
    "After creating the propeller object (located at RCAIDE.Library.Components.Powertrain.Converters.Propeller()), the geommetry properties including number of blades and radii are set. \n",
    "\n",
    "Next, the design conditions for the propeller are set. These include the speed the propeller is designed to operate at, the tip Mach number, the angular velocity, the lift coefficient, the altitude, and the thrust. These parameters will come from prior analysis or design.\n",
    "\n",
    "From here, the airfoils that are to be used are defined. In this case, two airfoils are used, one for the leading edge and one for the trailing edge. The airfoils are defined using the RCAIDE.Library.Components.Airfoils.Airfoil() class. The tag, coordinate_file, and polar_files properties are set for each airfoil. \n",
    "\n",
    "Finally, before exiting the function, the propeller is designed using the design_propeller function. This function takes the propeller object and completes the design of the propellery designing blade pitchnd more. Refer to the RCAIDE documentation for more information on the design_propeller function."
   ]
  },
  {
   "cell_type": "code",
   "execution_count": 3,
   "metadata": {},
   "outputs": [],
   "source": [
    "def design_test_propeller(): \n",
    "    \n",
    "    prop                                     = RCAIDE.Library.Components.Powertrain.Converters.Propeller() \n",
    "    prop.number_of_blades                    = 3\n",
    "    prop.number_of_engines                   = 1\n",
    "    prop.tip_radius                          = 1.0668\n",
    "    prop.hub_radius                          = 0.21336\n",
    "    prop.cruise.design_freestream_velocity   = 49.1744\n",
    "    prop.cruise.design_tip_mach              = 0.65\n",
    "    prop.cruise.design_angular_velocity      = 207.16160479940007\n",
    "    prop.cruise.design_Cl                    = 0.7\n",
    "    prop.cruise.design_altitude              = 1. * Units.km \n",
    "    prop.cruise.design_thrust                = 3054.4809132125697\n",
    "    \n",
    "    # define first airfoil    \n",
    "    ospath                                = os.path.abspath(os.path.join('Notebook'))\n",
    "    separator                             = os.path.sep\n",
    "    rel_path = os.path.dirname(ospath) + separator + '..' + separator + '..' + separator + 'VnV' + separator + 'Vehicles' + separator\n",
    "    airfoil_1                                  = RCAIDE.Library.Components.Airfoils.Airfoil()\n",
    "    airfoil_1.tag                              = 'NACA_4412' \n",
    "    airfoil_1.coordinate_file                  = rel_path + 'Airfoils' + separator + 'NACA_4412.txt'   # absolute path   \n",
    "    airfoil_1.polar_files                      =[rel_path + 'Airfoils' + separator + 'Polars' + separator + 'NACA_4412_polar_Re_50000.txt',\n",
    "                                                 rel_path + 'Airfoils' + separator + 'Polars' + separator + 'NACA_4412_polar_Re_100000.txt',\n",
    "                                                 rel_path + 'Airfoils' + separator + 'Polars' + separator + 'NACA_4412_polar_Re_200000.txt',\n",
    "                                                 rel_path + 'Airfoils' + separator + 'Polars' + separator + 'NACA_4412_polar_Re_500000.txt',\n",
    "                                                 rel_path + 'Airfoils' + separator + 'Polars' + separator + 'NACA_4412_polar_Re_1000000.txt'] \n",
    "    prop.append_airfoil(airfoil_1)           # append first airfoil \n",
    "    \n",
    "    # define  second airfoil \n",
    "    airfoil_2                                = RCAIDE.Library.Components.Airfoils.Airfoil()  \n",
    "    airfoil_2.tag                            = 'Clark_Y' \n",
    "    airfoil_2.coordinate_file                =   rel_path + 'Airfoils' + separator + 'Clark_y.txt' \n",
    "    airfoil_2.polar_files                    = [ rel_path + 'Airfoils' + separator + 'Polars' + separator + 'Clark_y_polar_Re_50000.txt',\n",
    "                                                 rel_path + 'Airfoils' + separator + 'Polars' + separator + 'Clark_y_polar_Re_100000.txt',\n",
    "                                                 rel_path + 'Airfoils' + separator + 'Polars' + separator + 'Clark_y_polar_Re_200000.txt',\n",
    "                                                 rel_path + 'Airfoils' + separator + 'Polars' + separator + 'Clark_y_polar_Re_500000.txt',\n",
    "                                                 rel_path + 'Airfoils' + separator + 'Polars' + separator + 'Clark_y_polar_Re_1000000.txt'] \n",
    "    prop.append_airfoil(airfoil_2)          # append second airfoil \n",
    "    \n",
    "    # define polar stations on rotor \n",
    "    prop.airfoil_polar_stations           = [0,0,0,0,0,0,0,0,0,0,0,0,0,1,1,1,1,1,1,1]\n",
    "    design_propeller(prop)\n",
    "    \n",
    "    return prop "
   ]
  },
  {
   "cell_type": "markdown",
   "metadata": {},
   "source": [
    "## 4. Run Propeller Analysis\n",
    "\n",
    "This block runs the entire analysis beginning with calling the design propeller outlined in section 3. It next defined operating conditions and including the range of aircraft airspeeds over which the analysis will be performed as well as the angular velocity of the propeller. Note how the units class is used to define the angular velocity to be in revolutions per minute (rpm).\n",
    "\n",
    "The setup parameters are then passed to the rotor_aerodynamic_analysis function. This function performs the analysis of the propeller. It returns results of the analysis which are then plotted using the plot_rotor_disc_performance function. The propeller geometry is then plotted with the plot_3d_rotor function."
   ]
  },
  {
   "cell_type": "code",
   "execution_count": null,
   "metadata": {},
   "outputs": [],
   "source": [
    "propeller      = design_test_propeller()\n",
    "\n",
    "# define velocity range \n",
    "velocity_range =  np.linspace(10, 100, 29)\n",
    "\n",
    "# define RPM\n",
    "angular_velocity = 2500*Units.rpm\n",
    "\n",
    "# run pr\n",
    "results        = rotor_aerodynamic_analysis(propeller, velocity_range,\n",
    "                                                angular_velocity = angular_velocity,\n",
    "                                                blade_pitch_command = 0, \n",
    "                                                angle_of_attack = 0, \n",
    "                                                altitude = 0 ) \n",
    "\n",
    "    \n",
    "plot_rotor_disc_performance(propeller,results,i=0,title=None,save_figure=False) \n",
    "\n",
    "# plot propeller \n",
    "plot_3d_rotor(propeller) "
   ]
  }
 ],
 "metadata": {
  "kernelspec": {
   "display_name": ".rcaideenv",
   "language": "python",
   "name": "python3"
  },
  "language_info": {
   "codemirror_mode": {
    "name": "ipython",
    "version": 3
   },
   "file_extension": ".py",
   "mimetype": "text/x-python",
   "name": "python",
   "nbconvert_exporter": "python",
   "pygments_lexer": "ipython3",
   "version": "3.11.6"
  }
 },
 "nbformat": 4,
 "nbformat_minor": 2
}
